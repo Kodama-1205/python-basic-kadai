{
  "nbformat": 4,
  "nbformat_minor": 0,
  "metadata": {
    "colab": {
      "provenance": []
    },
    "kernelspec": {
      "name": "python3",
      "display_name": "Python 3"
    },
    "language_info": {
      "name": "python"
    }
  },
  "cells": [
    {
      "cell_type": "code",
      "execution_count": 3,
      "metadata": {
        "colab": {
          "base_uri": "https://localhost:8080/"
        },
        "id": "d8ynhsVgft6Z",
        "outputId": "dcfe2b81-5067-4287-c560-35bd0a36bb9d"
      },
      "outputs": [
        {
          "output_type": "stream",
          "name": "stdout",
          "text": [
            "侍太郎\n",
            "36\n"
          ]
        }
      ],
      "source": [
        "class Human:\n",
        "\n",
        "   def __init__(self, name, age):\n",
        "      self.name = name\n",
        "      self.age = age\n",
        "\n",
        "printinfo = Human(\"侍太郎\", 36)\n",
        "\n",
        "print(printinfo.name)\n",
        "print(printinfo.age)"
      ]
    }
  ]
}