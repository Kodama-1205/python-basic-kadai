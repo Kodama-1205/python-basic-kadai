{
  "nbformat": 4,
  "nbformat_minor": 0,
  "metadata": {
    "colab": {
      "provenance": []
    },
    "kernelspec": {
      "name": "python3",
      "display_name": "Python 3"
    },
    "language_info": {
      "name": "python"
    }
  },
  "cells": [
    {
      "cell_type": "code",
      "execution_count": 7,
      "metadata": {
        "colab": {
          "base_uri": "https://localhost:8080/"
        },
        "id": "d8ynhsVgft6Z",
        "outputId": "bb95be59-d250-4ad0-d811-cf348e5dc971"
      },
      "outputs": [
        {
          "output_type": "stream",
          "name": "stdout",
          "text": [
            "名前: 侍太郎\n",
            "年齢: 36\n"
          ]
        }
      ],
      "source": [
        "class Human:\n",
        "\n",
        "   def __init__(self, name, age):\n",
        "      self.name = name\n",
        "      self.age = age\n",
        "\n",
        "   def printinfo(self):\n",
        "      print(\"名前:\", self.name)\n",
        "      print(\"年齢:\", self.age)\n",
        "\n",
        "person = Human(\"侍太郎\", 36)\n",
        "\n",
        "person.printinfo()"
      ]
    }
  ]
}