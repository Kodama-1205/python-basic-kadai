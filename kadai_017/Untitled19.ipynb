{
  "nbformat": 4,
  "nbformat_minor": 0,
  "metadata": {
    "colab": {
      "provenance": []
    },
    "kernelspec": {
      "name": "python3",
      "display_name": "Python 3"
    },
    "language_info": {
      "name": "python"
    }
  },
  "cells": [
    {
      "cell_type": "code",
      "execution_count": 8,
      "metadata": {
        "colab": {
          "base_uri": "https://localhost:8080/"
        },
        "id": "IfUhIU0zE9Gq",
        "outputId": "2e4aaae0-78b5-4cc9-d7e0-b122edd434df"
      },
      "outputs": [
        {
          "output_type": "stream",
          "name": "stdout",
          "text": [
            "名前:佐藤, 年齢:25\n",
            "佐藤は成人です。\n",
            "------------\n",
            "名前:鈴木, 年齢:15\n",
            "鈴木は未成年です。\n",
            "------------\n",
            "名前:高橋, 年齢:30\n",
            "高橋は成人です。\n",
            "------------\n",
            "名前:田中, 年齢:18\n",
            "田中は未成年です。\n",
            "------------\n"
          ]
        }
      ],
      "source": [
        "class Human:\n",
        "    def __init__(self, name, age):\n",
        "        self.name = name\n",
        "        self.age = age\n",
        "\n",
        "    def check_adult(self):\n",
        "        if self.age >= 20:\n",
        "            print(f\"{self.name}は成人です。\")\n",
        "        else:\n",
        "            print(f\"{self.name}は未成年です。\")\n",
        "\n",
        "    def printinfo(self):\n",
        "        print(f\"名前:{self.name}, 年齢:{self.age}\")\n",
        "\n",
        "\n",
        "humans =[Human(\"佐藤\", 25), Human(\"鈴木\", 15), Human(\"高橋\", 30), Human(\"田中\", 18)]\n",
        "\n",
        "for human in humans:\n",
        "    human.printinfo()\n",
        "    human.check_adult()\n",
        "    print(\"------------\")\n"
      ]
    }
  ]
}