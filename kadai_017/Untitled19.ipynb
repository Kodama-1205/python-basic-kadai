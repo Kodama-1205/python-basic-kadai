{
  "nbformat": 4,
  "nbformat_minor": 0,
  "metadata": {
    "colab": {
      "provenance": []
    },
    "kernelspec": {
      "name": "python3",
      "display_name": "Python 3"
    },
    "language_info": {
      "name": "python"
    }
  },
  "cells": [
    {
      "cell_type": "code",
      "execution_count": 6,
      "metadata": {
        "colab": {
          "base_uri": "https://localhost:8080/"
        },
        "id": "IfUhIU0zE9Gq",
        "outputId": "47411265-fb52-4033-e501-731a15ed2de0"
      },
      "outputs": [
        {
          "output_type": "stream",
          "name": "stdout",
          "text": [
            "名前:佐藤, 年齢:25\n",
            "佐藤は成人です。\n",
            "名前:鈴木, 年齢:15\n",
            "鈴木は未成年です。\n"
          ]
        }
      ],
      "source": [
        "class Human:\n",
        "    def __init__(self, name, age):\n",
        "        self.name = name\n",
        "        self.age = age\n",
        "\n",
        "    def check_adult(self):\n",
        "        if self.age >= 20:\n",
        "            print(f\"{self.name}は成人です。\")\n",
        "        else:\n",
        "            print(f\"{self.name}は未成年です。\")\n",
        "\n",
        "    def printinfo(self):\n",
        "        print(f\"名前:{self.name}, 年齢:{self.age}\")\n",
        "\n",
        "\n",
        "human1 = Human(\"佐藤\", 25)\n",
        "human2 = Human(\"鈴木\", 15)\n",
        "\n",
        "human1.printinfo()\n",
        "human1.check_adult()\n",
        "\n",
        "human2.printinfo()\n",
        "human2.check_adult()\n",
        "\n",
        "\n",
        "\n"
      ]
    }
  ]
}