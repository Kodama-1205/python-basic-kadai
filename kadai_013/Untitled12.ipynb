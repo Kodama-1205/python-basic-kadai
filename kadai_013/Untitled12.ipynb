{
  "nbformat": 4,
  "nbformat_minor": 0,
  "metadata": {
    "colab": {
      "provenance": []
    },
    "kernelspec": {
      "name": "python3",
      "display_name": "Python 3"
    },
    "language_info": {
      "name": "python"
    }
  },
  "cells": [
    {
      "cell_type": "code",
      "execution_count": 5,
      "metadata": {
        "colab": {
          "base_uri": "https://localhost:8080/"
        },
        "id": "cD4MOBacX9Ke",
        "outputId": "5f1c12bc-e82c-4c93-f9fd-1834b8663fc7"
      },
      "outputs": [
        {
          "output_type": "stream",
          "name": "stdout",
          "text": [
            "税込価格は121.0です。\n"
          ]
        }
      ],
      "source": [
        "def calc_tax(price , tax_rate):\n",
        "\n",
        "    total = price + (price * tax_rate / 100)\n",
        "\n",
        "    return total\n",
        "\n",
        "result = calc_tax(110, 10)\n",
        "\n",
        "print(f\"税込価格は{result}です。\")\n",
        "\n",
        "\n"
      ]
    }
  ]
}